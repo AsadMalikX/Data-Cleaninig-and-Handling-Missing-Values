{
  "cells": [
    {
      "cell_type": "markdown",
      "metadata": {
        "id": "view-in-github",
        "colab_type": "text"
      },
      "source": [
        "<a href=\"https://colab.research.google.com/github/AsadMalikX/Data-Cleaninig-and-Handling-Missing-Values/blob/main/Data_Cleaninig.ipynb\" target=\"_parent\"><img src=\"https://colab.research.google.com/assets/colab-badge.svg\" alt=\"Open In Colab\"/></a>"
      ]
    },
    {
      "cell_type": "markdown",
      "metadata": {
        "id": "vLomr9rUWNBs"
      },
      "source": [
        "### Task: Data cleaning"
      ]
    },
    {
      "cell_type": "code",
      "execution_count": null,
      "metadata": {
        "id": "_Af3CzGuWMr2"
      },
      "outputs": [],
      "source": [
        "import pandas as pd\n",
        "import numpy as py"
      ]
    },
    {
      "cell_type": "markdown",
      "source": [
        "###1. Load the Dataset"
      ],
      "metadata": {
        "id": "IfZhdVWtjQCL"
      }
    },
    {
      "cell_type": "code",
      "execution_count": null,
      "metadata": {
        "id": "xU8FdTHLVc9i"
      },
      "outputs": [],
      "source": [
        "# Loading the dataset\n",
        "data = pd.read_csv('/content/food_coded.csv')"
      ]
    },
    {
      "cell_type": "code",
      "execution_count": null,
      "metadata": {
        "colab": {
          "base_uri": "https://localhost:8080/"
        },
        "id": "PYIkzMgDhfTm",
        "outputId": "a1670aed-2e18-46d8-d0bb-c30896da60a9"
      },
      "outputs": [
        {
          "output_type": "stream",
          "name": "stdout",
          "text": [
            "     GPA  Gender  breakfast  calories_chicken  calories_day  calories_scone  \\\n",
            "0    2.4       2          1               430           NaN           315.0   \n",
            "1  3.654       1          1               610           3.0           420.0   \n",
            "2    3.3       1          1               720           4.0           420.0   \n",
            "3    3.2       1          1               430           3.0           420.0   \n",
            "4    3.5       1          1               720           2.0           420.0   \n",
            "\n",
            "   coffee                      comfort_food        comfort_food_reasons  \\\n",
            "0       1                              none       we dont have comfort    \n",
            "1       2       chocolate, chips, ice cream        Stress, bored, anger   \n",
            "2       2   frozen yogurt, pizza, fast food             stress, sadness   \n",
            "3       2  Pizza, Mac and cheese, ice cream                     Boredom   \n",
            "4       2      Ice cream, chocolate, chips   Stress, boredom, cravings    \n",
            "\n",
            "   comfort_food_reasons_coded  ...  soup  sports  thai_food tortilla_calories  \\\n",
            "0                         9.0  ...   1.0     1.0          1            1165.0   \n",
            "1                         1.0  ...   1.0     1.0          2             725.0   \n",
            "2                         1.0  ...   1.0     2.0          5            1165.0   \n",
            "3                         2.0  ...   1.0     2.0          5             725.0   \n",
            "4                         1.0  ...   1.0     1.0          4             940.0   \n",
            "\n",
            "   turkey_calories  type_sports veggies_day  vitamins  waffle_calories  \\\n",
            "0              345   car racing           5         1             1315   \n",
            "1              690  Basketball            4         2              900   \n",
            "2              500         none           5         1              900   \n",
            "3              690          NaN           3         1             1315   \n",
            "4              500     Softball           4         2              760   \n",
            "\n",
            "                     weight  \n",
            "0                       187  \n",
            "1                       155  \n",
            "2  I'm not answering this.   \n",
            "3             Not sure, 240  \n",
            "4                       190  \n",
            "\n",
            "[5 rows x 61 columns]\n"
          ]
        }
      ],
      "source": [
        "# Displaying the first five rows of the data set\n",
        "print(data.head())"
      ]
    },
    {
      "cell_type": "code",
      "execution_count": null,
      "metadata": {
        "colab": {
          "base_uri": "https://localhost:8080/"
        },
        "id": "jdRFXxPZlG5L",
        "outputId": "98811700-c85a-4a6f-c4bf-b4211083f6d7"
      },
      "outputs": [
        {
          "output_type": "stream",
          "name": "stdout",
          "text": [
            "       GPA  Gender  breakfast  calories_chicken  calories_day  calories_scone  \\\n",
            "120    3.5       1          1               610           4.0           420.0   \n",
            "121      3       1          1               265           2.0           315.0   \n",
            "122  3.882       1          1               720           NaN           420.0   \n",
            "123      3       2          1               720           4.0           420.0   \n",
            "124    3.9       1          1               430           NaN           315.0   \n",
            "\n",
            "     coffee                             comfort_food  \\\n",
            "120       2  wine. mac and cheese, pizza, ice cream    \n",
            "121       2               Pizza / Wings / Cheesecake   \n",
            "122       1               rice, potato, seaweed soup   \n",
            "123       1             Mac n Cheese, Lasagna, Pizza   \n",
            "124       2             Chocolates, pizza, and Ritz.   \n",
            "\n",
            "                              comfort_food_reasons  \\\n",
            "120                           boredom and sadness    \n",
            "121                Loneliness / Homesick / Sadness   \n",
            "122                                        sadness   \n",
            "123  happiness, they are some of my favorite foods   \n",
            "124               hormones, Premenstrual syndrome.   \n",
            "\n",
            "     comfort_food_reasons_coded  ...  soup  sports  thai_food  \\\n",
            "120                         NaN  ...   1.0     1.0          5   \n",
            "121                         NaN  ...   1.0     NaN          4   \n",
            "122                         NaN  ...   1.0     2.0          5   \n",
            "123                         NaN  ...   2.0     2.0          1   \n",
            "124                         NaN  ...   1.0     2.0          2   \n",
            "\n",
            "    tortilla_calories  turkey_calories  type_sports veggies_day  vitamins  \\\n",
            "120             940.0              500     Softball           5         1   \n",
            "121             940.0              500  basketball            5         2   \n",
            "122             580.0              690         none           4         2   \n",
            "123             940.0              500          NaN           3         1   \n",
            "124             725.0              345          NaN           4         2   \n",
            "\n",
            "     waffle_calories  weight  \n",
            "120             1315     156  \n",
            "121             1315     180  \n",
            "122             1315     120  \n",
            "123             1315     135  \n",
            "124              575     135  \n",
            "\n",
            "[5 rows x 61 columns]\n"
          ]
        }
      ],
      "source": [
        "# Printing the last five rows  of the data\n",
        "print(data.tail())"
      ]
    },
    {
      "cell_type": "code",
      "execution_count": null,
      "metadata": {
        "colab": {
          "base_uri": "https://localhost:8080/"
        },
        "id": "YQVAAWObj7_8",
        "outputId": "2d59000f-6a16-4f3f-f013-e1617be0a3ca"
      },
      "outputs": [
        {
          "output_type": "execute_result",
          "data": {
            "text/plain": [
              "(125, 61)"
            ]
          },
          "metadata": {},
          "execution_count": 6
        }
      ],
      "source": [
        "# Checking the columns and rows in the data\n",
        "data.shape"
      ]
    },
    {
      "cell_type": "code",
      "execution_count": null,
      "metadata": {
        "colab": {
          "base_uri": "https://localhost:8080/"
        },
        "id": "u7IHqGgzlh7U",
        "outputId": "1826df58-e44b-4d00-cc43-d16378e5e40f"
      },
      "outputs": [
        {
          "output_type": "stream",
          "name": "stdout",
          "text": [
            "<class 'pandas.core.frame.DataFrame'>\n",
            "RangeIndex: 125 entries, 0 to 124\n",
            "Data columns (total 61 columns):\n",
            " #   Column                        Non-Null Count  Dtype  \n",
            "---  ------                        --------------  -----  \n",
            " 0   GPA                           123 non-null    object \n",
            " 1   Gender                        125 non-null    int64  \n",
            " 2   breakfast                     125 non-null    int64  \n",
            " 3   calories_chicken              125 non-null    int64  \n",
            " 4   calories_day                  106 non-null    float64\n",
            " 5   calories_scone                124 non-null    float64\n",
            " 6   coffee                        125 non-null    int64  \n",
            " 7   comfort_food                  124 non-null    object \n",
            " 8   comfort_food_reasons          123 non-null    object \n",
            " 9   comfort_food_reasons_coded    106 non-null    float64\n",
            " 10  cook                          122 non-null    float64\n",
            " 11  comfort_food_reasons_coded.1  125 non-null    int64  \n",
            " 12  cuisine                       108 non-null    float64\n",
            " 13  diet_current                  124 non-null    object \n",
            " 14  diet_current_coded            125 non-null    int64  \n",
            " 15  drink                         123 non-null    float64\n",
            " 16  eating_changes                122 non-null    object \n",
            " 17  eating_changes_coded          125 non-null    int64  \n",
            " 18  eating_changes_coded1         125 non-null    int64  \n",
            " 19  eating_out                    125 non-null    int64  \n",
            " 20  employment                    116 non-null    float64\n",
            " 21  ethnic_food                   125 non-null    int64  \n",
            " 22  exercise                      112 non-null    float64\n",
            " 23  father_education              124 non-null    float64\n",
            " 24  father_profession             122 non-null    object \n",
            " 25  fav_cuisine                   123 non-null    object \n",
            " 26  fav_cuisine_coded             125 non-null    int64  \n",
            " 27  fav_food                      123 non-null    float64\n",
            " 28  food_childhood                124 non-null    object \n",
            " 29  fries                         125 non-null    int64  \n",
            " 30  fruit_day                     125 non-null    int64  \n",
            " 31  grade_level                   125 non-null    int64  \n",
            " 32  greek_food                    125 non-null    int64  \n",
            " 33  healthy_feeling               125 non-null    int64  \n",
            " 34  healthy_meal                  124 non-null    object \n",
            " 35  ideal_diet                    124 non-null    object \n",
            " 36  ideal_diet_coded              125 non-null    int64  \n",
            " 37  income                        124 non-null    float64\n",
            " 38  indian_food                   125 non-null    int64  \n",
            " 39  italian_food                  125 non-null    int64  \n",
            " 40  life_rewarding                124 non-null    float64\n",
            " 41  marital_status                124 non-null    float64\n",
            " 42  meals_dinner_friend           122 non-null    object \n",
            " 43  mother_education              122 non-null    float64\n",
            " 44  mother_profession             123 non-null    object \n",
            " 45  nutritional_check             125 non-null    int64  \n",
            " 46  on_off_campus                 124 non-null    float64\n",
            " 47  parents_cook                  125 non-null    int64  \n",
            " 48  pay_meal_out                  125 non-null    int64  \n",
            " 49  persian_food                  124 non-null    float64\n",
            " 50  self_perception_weight        124 non-null    float64\n",
            " 51  soup                          124 non-null    float64\n",
            " 52  sports                        123 non-null    float64\n",
            " 53  thai_food                     125 non-null    int64  \n",
            " 54  tortilla_calories             124 non-null    float64\n",
            " 55  turkey_calories               125 non-null    int64  \n",
            " 56  type_sports                   99 non-null     object \n",
            " 57  veggies_day                   125 non-null    int64  \n",
            " 58  vitamins                      125 non-null    int64  \n",
            " 59  waffle_calories               125 non-null    int64  \n",
            " 60  weight                        123 non-null    object \n",
            "dtypes: float64(20), int64(27), object(14)\n",
            "memory usage: 59.7+ KB\n"
          ]
        }
      ],
      "source": [
        "# Getting more info about the data\n",
        "data.info()"
      ]
    },
    {
      "cell_type": "markdown",
      "source": [
        "###2. Handle Missing Values"
      ],
      "metadata": {
        "id": "Q2CZTMPHjc2z"
      }
    },
    {
      "cell_type": "code",
      "execution_count": null,
      "metadata": {
        "colab": {
          "base_uri": "https://localhost:8080/"
        },
        "id": "W1qNksXDrHdH",
        "outputId": "0ba8fc8a-f953-4ab1-bfc4-2d76696b5126"
      },
      "outputs": [
        {
          "output_type": "execute_result",
          "data": {
            "text/plain": [
              "GPA                  2\n",
              "Gender               0\n",
              "breakfast            0\n",
              "calories_chicken     0\n",
              "calories_day        19\n",
              "                    ..\n",
              "type_sports         26\n",
              "veggies_day          0\n",
              "vitamins             0\n",
              "waffle_calories      0\n",
              "weight               2\n",
              "Length: 61, dtype: int64"
            ]
          },
          "metadata": {},
          "execution_count": 8
        }
      ],
      "source": [
        "# Checking the missing values\n",
        "data.isnull().sum()"
      ]
    },
    {
      "cell_type": "code",
      "execution_count": null,
      "metadata": {
        "colab": {
          "base_uri": "https://localhost:8080/"
        },
        "id": "YkWYSimGhtbe",
        "outputId": "ed19d40c-fb4b-4bea-abaf-800f0c25b6c9"
      },
      "outputs": [
        {
          "output_type": "stream",
          "name": "stdout",
          "text": [
            "['2.4' '3.654' '3.3' '3.2' '3.5' '2.25' '3.8' '3.904' '3.4' '3.6' '3.1'\n",
            " nan '4' '2.2' '3.87' '3.7' '3.9' '2.8' '3' '3.65' '3.89' '2.9' '3.605'\n",
            " '3.83' '3.292' '3.35' 'Personal ' '2.6' '3.67' '3.73' '3.79 bitch' '2.71'\n",
            " '3.68' '3.75' '3.92' 'Unknown' '3.77' '3.63' '3.882']\n"
          ]
        }
      ],
      "source": [
        "# Inspect the 'GPA' column to see what types of values it contains\n",
        "print(data['GPA'].unique())"
      ]
    },
    {
      "cell_type": "code",
      "execution_count": null,
      "metadata": {
        "id": "Hgv7pXD0iQI8"
      },
      "outputs": [],
      "source": [
        "# Convert non-numeric values to NaN in 'GPA' column\n",
        "data['GPA'] = pd.to_numeric(data['GPA'], errors='coerce')"
      ]
    },
    {
      "cell_type": "code",
      "execution_count": null,
      "metadata": {
        "id": "kVs3MgE8iYwe"
      },
      "outputs": [],
      "source": [
        "# Now fill missing values with the mean\n",
        "data['GPA'].fillna(data['GPA'].mean(), inplace=True)"
      ]
    },
    {
      "cell_type": "code",
      "execution_count": null,
      "metadata": {
        "colab": {
          "base_uri": "https://localhost:8080/"
        },
        "id": "hkq5d2w-ibS3",
        "outputId": "60af1ec1-9456-4ab5-d41a-66afdb207973"
      },
      "outputs": [
        {
          "output_type": "stream",
          "name": "stdout",
          "text": [
            "Unique values in 'GPA' after conversion and filling:\n",
            "[2.4        3.654      3.3        3.2        3.5        2.25\n",
            " 3.8        3.904      3.4        3.6        3.1        3.41555833\n",
            " 4.         2.2        3.87       3.7        3.9        2.8\n",
            " 3.         3.65       3.89       2.9        3.605      3.83\n",
            " 3.292      3.35       2.6        3.67       3.73       2.71\n",
            " 3.68       3.75       3.92       3.77       3.63       3.882     ]\n"
          ]
        }
      ],
      "source": [
        "# Check if the conversion and filling are successful\n",
        "print(\"Unique values in 'GPA' after conversion and filling:\")\n",
        "print(data['GPA'].unique())"
      ]
    },
    {
      "cell_type": "code",
      "execution_count": null,
      "metadata": {
        "colab": {
          "base_uri": "https://localhost:8080/"
        },
        "id": "seEOFskdieVl",
        "outputId": "ba7c56b4-1588-40b6-b793-5d1be6bd20a7"
      },
      "outputs": [
        {
          "output_type": "stream",
          "name": "stdout",
          "text": [
            "Unique values in 'weight' before conversion:\n",
            "['187' '155' \"I'm not answering this. \" 'Not sure, 240' '190' '180' '137'\n",
            " '125' '116' '110' '264' '123' '185' '145' '170' '135' '165' '175' '195'\n",
            " '105' '160' '167' '115' '205' nan '128' '150' '140' '120' '100' '113'\n",
            " '168' '169' '200' '265' '192' '118' '210' '112' '144 lbs' '130' '127'\n",
            " '129' '260' '184' '230' '138' '156']\n"
          ]
        }
      ],
      "source": [
        "# Inspect and Clean 'weight' Column\n",
        "print(\"Unique values in 'weight' before conversion:\")\n",
        "print(data['weight'].unique())"
      ]
    },
    {
      "cell_type": "code",
      "execution_count": null,
      "metadata": {
        "id": "ftynfWuQjPIT"
      },
      "outputs": [],
      "source": [
        "data['weight'] = pd.to_numeric(data['weight'], errors='coerce')\n",
        "data['weight'].fillna(data['weight'].mean(), inplace=True)"
      ]
    },
    {
      "cell_type": "code",
      "execution_count": null,
      "metadata": {
        "colab": {
          "base_uri": "https://localhost:8080/"
        },
        "id": "apxHyA2XjUHQ",
        "outputId": "74c2da8d-4fb3-4ed5-d92b-c27f5a1b411d"
      },
      "outputs": [
        {
          "output_type": "stream",
          "name": "stdout",
          "text": [
            "Unique values in 'weight' after conversion and filling:\n",
            "[187.  155.  158.5 190.  180.  137.  125.  116.  110.  264.  123.  185.\n",
            " 145.  170.  135.  165.  175.  195.  105.  160.  167.  115.  205.  128.\n",
            " 150.  140.  120.  100.  113.  168.  169.  200.  265.  192.  118.  210.\n",
            " 112.  130.  127.  129.  260.  184.  230.  138.  156. ]\n"
          ]
        }
      ],
      "source": [
        "print(\"Unique values in 'weight' after conversion and filling:\")\n",
        "print(data['weight'].unique())"
      ]
    },
    {
      "cell_type": "code",
      "execution_count": null,
      "metadata": {
        "id": "3WzE6Pd0jV3v"
      },
      "outputs": [],
      "source": [
        "# Fill missing values for 'calories_day' and other columns\n",
        "data['calories_day'].fillna(data['calories_day'].mean(), inplace=True)\n",
        "data['type_sports'].fillna('missing', inplace=True)"
      ]
    },
    {
      "cell_type": "code",
      "execution_count": null,
      "metadata": {
        "colab": {
          "base_uri": "https://localhost:8080/"
        },
        "id": "zQpHYooDjdmO",
        "outputId": "3da47443-5160-4802-8824-8b75689e3993"
      },
      "outputs": [
        {
          "output_type": "stream",
          "name": "stdout",
          "text": [
            "Missing values after filling:\n",
            "GPA                 0\n",
            "Gender              0\n",
            "breakfast           0\n",
            "calories_chicken    0\n",
            "calories_day        0\n",
            "                   ..\n",
            "type_sports         0\n",
            "veggies_day         0\n",
            "vitamins            0\n",
            "waffle_calories     0\n",
            "weight              0\n",
            "Length: 61, dtype: int64\n"
          ]
        }
      ],
      "source": [
        "# Check again for missing values after filling\n",
        "print(\"Missing values after filling:\")\n",
        "print(data.isnull().sum())"
      ]
    },
    {
      "cell_type": "markdown",
      "source": [
        "###3. Remove Duplicates"
      ],
      "metadata": {
        "id": "lpgAju4HjoqM"
      }
    },
    {
      "cell_type": "code",
      "execution_count": null,
      "metadata": {
        "colab": {
          "base_uri": "https://localhost:8080/"
        },
        "id": "AKhwPVApjgFq",
        "outputId": "018c1c8e-d41b-46d0-d907-0ff4f0e9b797"
      },
      "outputs": [
        {
          "output_type": "stream",
          "name": "stdout",
          "text": [
            "Shape of data after removing duplicates: (125, 61)\n"
          ]
        }
      ],
      "source": [
        "# Remove duplicate rows\n",
        "data.drop_duplicates(inplace=True)\n",
        "\n",
        "# Check the shape of the dataset after removing duplicates\n",
        "print(\"Shape of data after removing duplicates:\", data.shape)"
      ]
    },
    {
      "cell_type": "markdown",
      "source": [
        "###4. Verify the Cleaning Process\n"
      ],
      "metadata": {
        "id": "hhGL0mH-j8Q3"
      }
    },
    {
      "cell_type": "code",
      "source": [
        "# Verify that there are no missing values\n",
        "print(data.isnull().sum())"
      ],
      "metadata": {
        "colab": {
          "base_uri": "https://localhost:8080/"
        },
        "id": "2oDhjOJmkCWH",
        "outputId": "6ea7370a-0f3c-47a6-e62b-76c46688b47e"
      },
      "execution_count": null,
      "outputs": [
        {
          "output_type": "stream",
          "name": "stdout",
          "text": [
            "GPA                 0\n",
            "Gender              0\n",
            "breakfast           0\n",
            "calories_chicken    0\n",
            "calories_day        0\n",
            "                   ..\n",
            "type_sports         0\n",
            "veggies_day         0\n",
            "vitamins            0\n",
            "waffle_calories     0\n",
            "weight              0\n",
            "Length: 61, dtype: int64\n"
          ]
        }
      ]
    },
    {
      "cell_type": "code",
      "source": [
        "# Verify that there are no duplicate rows\n",
        "print(data.duplicated().sum())\n"
      ],
      "metadata": {
        "colab": {
          "base_uri": "https://localhost:8080/"
        },
        "id": "Ts_ya242kNIZ",
        "outputId": "41f0fdee-07b4-4352-943b-4926ec259cc2"
      },
      "execution_count": null,
      "outputs": [
        {
          "output_type": "stream",
          "name": "stdout",
          "text": [
            "0\n"
          ]
        }
      ]
    },
    {
      "cell_type": "code",
      "source": [
        "# Verify the dataset after cleaning\n",
        "print(data.head())"
      ],
      "metadata": {
        "colab": {
          "base_uri": "https://localhost:8080/"
        },
        "id": "nKg9rJ-7kTqx",
        "outputId": "26e0522f-4fb6-4ff3-ab0f-ac3d9f551a3e"
      },
      "execution_count": null,
      "outputs": [
        {
          "output_type": "stream",
          "name": "stdout",
          "text": [
            "     GPA  Gender  breakfast  calories_chicken  calories_day  calories_scone  \\\n",
            "0  2.400       2          1               430      3.028302           315.0   \n",
            "1  3.654       1          1               610      3.000000           420.0   \n",
            "2  3.300       1          1               720      4.000000           420.0   \n",
            "3  3.200       1          1               430      3.000000           420.0   \n",
            "4  3.500       1          1               720      2.000000           420.0   \n",
            "\n",
            "   coffee                      comfort_food        comfort_food_reasons  \\\n",
            "0       1                              none       we dont have comfort    \n",
            "1       2       chocolate, chips, ice cream        Stress, bored, anger   \n",
            "2       2   frozen yogurt, pizza, fast food             stress, sadness   \n",
            "3       2  Pizza, Mac and cheese, ice cream                     Boredom   \n",
            "4       2      Ice cream, chocolate, chips   Stress, boredom, cravings    \n",
            "\n",
            "   comfort_food_reasons_coded  ...  soup  sports  thai_food tortilla_calories  \\\n",
            "0                         9.0  ...   1.0     1.0          1            1165.0   \n",
            "1                         1.0  ...   1.0     1.0          2             725.0   \n",
            "2                         1.0  ...   1.0     2.0          5            1165.0   \n",
            "3                         2.0  ...   1.0     2.0          5             725.0   \n",
            "4                         1.0  ...   1.0     1.0          4             940.0   \n",
            "\n",
            "   turkey_calories  type_sports veggies_day  vitamins  waffle_calories  weight  \n",
            "0              345   car racing           5         1             1315   187.0  \n",
            "1              690  Basketball            4         2              900   155.0  \n",
            "2              500         none           5         1              900   158.5  \n",
            "3              690      missing           3         1             1315   158.5  \n",
            "4              500     Softball           4         2              760   190.0  \n",
            "\n",
            "[5 rows x 61 columns]\n"
          ]
        }
      ]
    },
    {
      "cell_type": "code",
      "execution_count": null,
      "metadata": {
        "id": "1bWpPIiQj3kY",
        "colab": {
          "base_uri": "https://localhost:8080/"
        },
        "outputId": "16b53668-7e22-46b9-f265-daedbf190ca4"
      },
      "outputs": [
        {
          "output_type": "stream",
          "name": "stdout",
          "text": [
            "<class 'pandas.core.frame.DataFrame'>\n",
            "RangeIndex: 125 entries, 0 to 124\n",
            "Data columns (total 61 columns):\n",
            " #   Column                        Non-Null Count  Dtype  \n",
            "---  ------                        --------------  -----  \n",
            " 0   GPA                           125 non-null    float64\n",
            " 1   Gender                        125 non-null    int64  \n",
            " 2   breakfast                     125 non-null    int64  \n",
            " 3   calories_chicken              125 non-null    int64  \n",
            " 4   calories_day                  125 non-null    float64\n",
            " 5   calories_scone                124 non-null    float64\n",
            " 6   coffee                        125 non-null    int64  \n",
            " 7   comfort_food                  124 non-null    object \n",
            " 8   comfort_food_reasons          123 non-null    object \n",
            " 9   comfort_food_reasons_coded    106 non-null    float64\n",
            " 10  cook                          122 non-null    float64\n",
            " 11  comfort_food_reasons_coded.1  125 non-null    int64  \n",
            " 12  cuisine                       108 non-null    float64\n",
            " 13  diet_current                  124 non-null    object \n",
            " 14  diet_current_coded            125 non-null    int64  \n",
            " 15  drink                         123 non-null    float64\n",
            " 16  eating_changes                122 non-null    object \n",
            " 17  eating_changes_coded          125 non-null    int64  \n",
            " 18  eating_changes_coded1         125 non-null    int64  \n",
            " 19  eating_out                    125 non-null    int64  \n",
            " 20  employment                    116 non-null    float64\n",
            " 21  ethnic_food                   125 non-null    int64  \n",
            " 22  exercise                      112 non-null    float64\n",
            " 23  father_education              124 non-null    float64\n",
            " 24  father_profession             122 non-null    object \n",
            " 25  fav_cuisine                   123 non-null    object \n",
            " 26  fav_cuisine_coded             125 non-null    int64  \n",
            " 27  fav_food                      123 non-null    float64\n",
            " 28  food_childhood                124 non-null    object \n",
            " 29  fries                         125 non-null    int64  \n",
            " 30  fruit_day                     125 non-null    int64  \n",
            " 31  grade_level                   125 non-null    int64  \n",
            " 32  greek_food                    125 non-null    int64  \n",
            " 33  healthy_feeling               125 non-null    int64  \n",
            " 34  healthy_meal                  124 non-null    object \n",
            " 35  ideal_diet                    124 non-null    object \n",
            " 36  ideal_diet_coded              125 non-null    int64  \n",
            " 37  income                        124 non-null    float64\n",
            " 38  indian_food                   125 non-null    int64  \n",
            " 39  italian_food                  125 non-null    int64  \n",
            " 40  life_rewarding                124 non-null    float64\n",
            " 41  marital_status                124 non-null    float64\n",
            " 42  meals_dinner_friend           122 non-null    object \n",
            " 43  mother_education              122 non-null    float64\n",
            " 44  mother_profession             123 non-null    object \n",
            " 45  nutritional_check             125 non-null    int64  \n",
            " 46  on_off_campus                 124 non-null    float64\n",
            " 47  parents_cook                  125 non-null    int64  \n",
            " 48  pay_meal_out                  125 non-null    int64  \n",
            " 49  persian_food                  124 non-null    float64\n",
            " 50  self_perception_weight        124 non-null    float64\n",
            " 51  soup                          124 non-null    float64\n",
            " 52  sports                        123 non-null    float64\n",
            " 53  thai_food                     125 non-null    int64  \n",
            " 54  tortilla_calories             124 non-null    float64\n",
            " 55  turkey_calories               125 non-null    int64  \n",
            " 56  type_sports                   125 non-null    object \n",
            " 57  veggies_day                   125 non-null    int64  \n",
            " 58  vitamins                      125 non-null    int64  \n",
            " 59  waffle_calories               125 non-null    int64  \n",
            " 60  weight                        125 non-null    float64\n",
            "dtypes: float64(22), int64(27), object(12)\n",
            "memory usage: 59.7+ KB\n"
          ]
        }
      ],
      "source": [
        "# Getting more info about the data\n",
        "data.info()"
      ]
    },
    {
      "cell_type": "code",
      "source": [],
      "metadata": {
        "id": "OQM5WfOQkTnS"
      },
      "execution_count": null,
      "outputs": []
    },
    {
      "cell_type": "code",
      "source": [],
      "metadata": {
        "id": "vD41cmapAgLf"
      },
      "execution_count": null,
      "outputs": []
    }
  ],
  "metadata": {
    "colab": {
      "provenance": [],
      "authorship_tag": "ABX9TyOu1NVV0ov3L0q/D/VPhpZI",
      "include_colab_link": true
    },
    "kernelspec": {
      "display_name": "Python 3",
      "name": "python3"
    },
    "language_info": {
      "name": "python"
    }
  },
  "nbformat": 4,
  "nbformat_minor": 0
}